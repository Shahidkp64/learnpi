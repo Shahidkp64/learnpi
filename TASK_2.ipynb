{
  "nbformat": 4,
  "nbformat_minor": 0,
  "metadata": {
    "colab": {
      "name": "TASK 2.ipynb",
      "provenance": [],
      "include_colab_link": true
    },
    "kernelspec": {
      "name": "python3",
      "display_name": "Python 3"
    },
    "language_info": {
      "name": "python"
    }
  },
  "cells": [
    {
      "cell_type": "markdown",
      "metadata": {
        "id": "view-in-github",
        "colab_type": "text"
      },
      "source": [
        "<a href=\"https://colab.research.google.com/github/Shahidkp64/learnpi/blob/main/TASK_2.ipynb\" target=\"_parent\"><img src=\"https://colab.research.google.com/assets/colab-badge.svg\" alt=\"Open In Colab\"/></a>"
      ]
    },
    {
      "cell_type": "markdown",
      "metadata": {
        "id": "LsC-2SdxAo8v"
      },
      "source": [
        "1 ) Consider i = 2, Write a program to convert i to float. \n",
        "---\n",
        "\n",
        "    (Expected Output = 2.0 )\n"
      ]
    },
    {
      "cell_type": "code",
      "metadata": {
        "id": "sHcMeA4vCUyp",
        "colab": {
          "base_uri": "https://localhost:8080/"
        },
        "outputId": "f7b7cdfe-fad4-42e7-fd14-9e5e4b5d89c5"
      },
      "source": [
        "#please enter the code below this line\n",
        "a=5\n",
        "print(a,'is type of',type(a))\n",
        "a=float(a)\n",
        "print(a,'is type of:',type(a))"
      ],
      "execution_count": 8,
      "outputs": [
        {
          "output_type": "stream",
          "text": [
            "5 is type of <class 'int'>\n",
            "5.0 is type of: <class 'float'>\n"
          ],
          "name": "stdout"
        }
      ]
    },
    {
      "cell_type": "code",
      "metadata": {
        "id": "N97Key3Do_Zd"
      },
      "source": [
        ""
      ],
      "execution_count": null,
      "outputs": []
    },
    {
      "cell_type": "markdown",
      "metadata": {
        "id": "w5XXklMpCZna"
      },
      "source": [
        "2 )Consider x=\"Hello\" and y=\"World\" , then write a program to concatinate the strings to a single string and print the result.\n",
        "            \n",
        "            \n",
        "            \n",
        "            \n",
        "          ( Expected output = Hello World )"
      ]
    },
    {
      "cell_type": "code",
      "metadata": {
        "id": "T72ap7WDD1OD",
        "colab": {
          "base_uri": "https://localhost:8080/"
        },
        "outputId": "93726e5a-7a39-42dc-a9fc-3499c7ade5e6"
      },
      "source": [
        "#please enter the code below this line\n",
        "var1=\"hello\"\n",
        "var2=\"world\"\n",
        "var3=var1 + var2\n",
        "print(var3)\n"
      ],
      "execution_count": 14,
      "outputs": [
        {
          "output_type": "stream",
          "text": [
            "helloworld\n"
          ],
          "name": "stdout"
        }
      ]
    },
    {
      "cell_type": "markdown",
      "metadata": {
        "id": "tnp5Z3JyD7iO"
      },
      "source": [
        "3 ) Consider pi = 3.14 . print the value of pie and its type."
      ]
    },
    {
      "cell_type": "code",
      "metadata": {
        "id": "hQQkH2m4E_Ci",
        "colab": {
          "base_uri": "https://localhost:8080/"
        },
        "outputId": "5ce105e8-b46d-4ee7-dfcd-b51183ba9013"
      },
      "source": [
        "#please enter the code below this line\n",
        "# value of pi up to n decimal places\n",
        "from math import acos\n",
        " \n",
        "# Function that prints the\n",
        "# value of pi upto N\n",
        "# decimal places\n",
        "def printValueOfPi(N) :\n",
        " \n",
        "    # Find value of pi upto\n",
        "    # using acos() function\n",
        "    b = '{:.' + str(N) + 'f}'\n",
        "    pi= b.format(2 * acos(0.0))\n",
        "      \n",
        "     \n",
        "    # Print value of pi upto\n",
        "    # N decimal places\n",
        "    print(pi);\n",
        " \n",
        "# Driver Code\n",
        "if __name__ == \"__main__\" :\n",
        " \n",
        "    N = 43;\n",
        " \n",
        "    # Function that prints\n",
        "    # the value of pi\n",
        "    printValueOfPi(N);\n",
        "     \n",
        "# This code is contributed by AnkitRai01\n"
      ],
      "execution_count": 5,
      "outputs": [
        {
          "output_type": "stream",
          "text": [
            "3.1415926535897931159979634685441851615905762\n"
          ],
          "name": "stdout"
        }
      ]
    }
  ]
}