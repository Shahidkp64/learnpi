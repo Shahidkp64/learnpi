{
  "nbformat": 4,
  "nbformat_minor": 0,
  "metadata": {
    "colab": {
      "name": "TASK 9.ipynb",
      "provenance": [],
      "toc_visible": true,
      "include_colab_link": true
    },
    "kernelspec": {
      "name": "python3",
      "display_name": "Python 3"
    },
    "language_info": {
      "name": "python"
    }
  },
  "cells": [
    {
      "cell_type": "markdown",
      "metadata": {
        "id": "view-in-github",
        "colab_type": "text"
      },
      "source": [
        "<a href=\"https://colab.research.google.com/github/Shahidkp64/learnpi/blob/main/TASK_9.ipynb\" target=\"_parent\"><img src=\"https://colab.research.google.com/assets/colab-badge.svg\" alt=\"Open In Colab\"/></a>"
      ]
    },
    {
      "cell_type": "markdown",
      "metadata": {
        "id": "CBOQ3rFElEb0"
      },
      "source": [
        "1. Create an 4x4 array containing the values ranging from 0 - 15 (use arange function). Then ,\n",
        "  \n",
        "  a) split it equally along horizontal.\n",
        "\n",
        "  b) split it as 4 parts vertically.\n",
        "\n"
      ]
    },
    {
      "cell_type": "code",
      "metadata": {
        "id": "pKy4fjS_m3XD",
        "outputId": "5c76b441-8d5e-4c64-8b9e-97312b1107e0",
        "colab": {
          "base_uri": "https://localhost:8080/"
        }
      },
      "source": [
        "#please provide your answer below this line\n",
        "import numpy as np\n",
        "x =  a = np.arange(1, 17).reshape(4,4)\n",
        "\n",
        "print(x)"
      ],
      "execution_count": 5,
      "outputs": [
        {
          "output_type": "stream",
          "text": [
            "[[ 1  2  3  4]\n",
            " [ 5  6  7  8]\n",
            " [ 9 10 11 12]\n",
            " [13 14 15 16]]\n"
          ],
          "name": "stdout"
        }
      ]
    },
    {
      "cell_type": "markdown",
      "metadata": {
        "id": "ORtqWRAeoMvn"
      },
      "source": [
        "2. Create a 3x3 matrix using random module and then,\n",
        "\n",
        "  a) Find the ceil of the matrix.\n",
        "  \n",
        "  b) Find the floor of the matrix."
      ]
    },
    {
      "cell_type": "code",
      "metadata": {
        "id": "kt_CO_v9qpU-",
        "outputId": "ecdc9c51-5684-4f1b-c72d-959af12e668d",
        "colab": {
          "base_uri": "https://localhost:8080/"
        }
      },
      "source": [
        "\n",
        "\n",
        " \n",
        "import sys\n",
        " \n",
        "\n",
        "def floorAndCeil(arr, n, x):\n",
        " \n",
        "    # Distances of current\n",
        "    # floor and ceiling\n",
        "    fDist = sys.maxsize\n",
        "    cDist = sys.maxsize\n",
        " \n",
        "    for i in range(n):\n",
        "     \n",
        "        # If current element is closer\n",
        "        # than previous ceiling.\n",
        "        if (arr[i] >= x and\n",
        "            cDist > (arr[i] - x)):\n",
        "         \n",
        "            cInd = i\n",
        "            cDist = arr[i] - x\n",
        " \n",
        "        # If current element is closer\n",
        "        # than previous floor.\n",
        "        if (arr[i] <= x and fDist > (x - arr[i])):\n",
        "         \n",
        "            fInd = i\n",
        "            fDist = x - arr[i]\n",
        " \n",
        "    if (fDist == sys.maxsize):\n",
        "        print(\"Floor doesn't exist \")\n",
        "    else:\n",
        "        print(\"Floor is \" + str(arr[fInd]))\n",
        " \n",
        "    if (cDist == sys.maxsize):\n",
        "        print( \"Ceil doesn't exist \")\n",
        "    else:\n",
        "        print(\"Ceil is \" + str(arr[cInd]))\n",
        " \n",
        "# Driver code\n",
        "if __name__ == \"__main__\":\n",
        "    arr = [5, 6, 8, 9, 6, 5, 5, 6]\n",
        "    n = len(arr)\n",
        "    x = 7\n",
        "    floorAndCeil(arr, n, x)"
      ],
      "execution_count": 12,
      "outputs": [
        {
          "output_type": "stream",
          "text": [
            "Floor is 6\n",
            "Ceil is 8\n"
          ],
          "name": "stdout"
        }
      ]
    },
    {
      "cell_type": "markdown",
      "metadata": {
        "id": "oln9t19WqzBb"
      },
      "source": [
        "3. Create a random 1x4 array and print the random array and its shape.\n",
        "    \n",
        "      (use the shape function for finding the shape & use the same random we created here for both the below operations.)\n",
        "\n",
        "  a) Squeeze the random array and print the squeezed array and its shape.\n",
        "  b) Expand the random array by one axis and print the expanded array and its shape."
      ]
    },
    {
      "cell_type": "code",
      "metadata": {
        "id": "cbGGwRo3vpVX",
        "outputId": "228aa3eb-b845-48dd-f697-2e44e9baefab",
        "colab": {
          "base_uri": "https://localhost:8080/"
        }
      },
      "source": [
        "#please provide your answer below this line.\n",
        "#Python program explaining\n",
        "# numpy.squeeze function\n",
        "  \n",
        "import numpy as geek\n",
        "  \n",
        "in_arr = geek.array([[[2, 2, 2], [2, 2, 2]]])\n",
        "   \n",
        "print (\"Input array : \", in_arr) \n",
        "print(\"Shape of input array : \", in_arr.shape)  \n",
        "  \n",
        "out_arr = geek.squeeze(in_arr) \n",
        "  \n",
        "print (\"output squeezed array : \", out_arr)\n",
        "print(\"Shape of output array : \", out_arr.shape) "
      ],
      "execution_count": 14,
      "outputs": [
        {
          "output_type": "stream",
          "text": [
            "Input array :  [[[2 2 2]\n",
            "  [2 2 2]]]\n",
            "Shape of input array :  (1, 2, 3)\n",
            "output squeezed array :  [[2 2 2]\n",
            " [2 2 2]]\n",
            "Shape of output array :  (2, 3)\n"
          ],
          "name": "stdout"
        }
      ]
    }
  ]
}